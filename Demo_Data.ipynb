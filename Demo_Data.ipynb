{
 "cells": [
  {
   "attachments": {},
   "cell_type": "markdown",
   "metadata": {},
   "source": [
    "##### Importing the pandas library"
   ]
  },
  {
   "cell_type": "code",
   "execution_count": 2,
   "metadata": {},
   "outputs": [],
   "source": [
    "import pandas as pd"
   ]
  },
  {
   "attachments": {},
   "cell_type": "markdown",
   "metadata": {},
   "source": [
    "##### Reading the data with pandas"
   ]
  },
  {
   "cell_type": "code",
   "execution_count": null,
   "metadata": {},
   "outputs": [],
   "source": [
    "df = pd.read_csv('adult.data.csv', header=0)\n",
    "df"
   ]
  },
  {
   "attachments": {},
   "cell_type": "markdown",
   "metadata": {},
   "source": [
    "##### Finding out how many unique race we have in data "
   ]
  },
  {
   "cell_type": "code",
   "execution_count": null,
   "metadata": {},
   "outputs": [],
   "source": [
    "df.drop_duplicates('race')"
   ]
  },
  {
   "cell_type": "code",
   "execution_count": 34,
   "metadata": {},
   "outputs": [
    {
     "data": {
      "text/plain": [
       "Black                  3124\n",
       "White                 27816\n",
       "Asian-Pac-Islander     1039\n",
       "Amer-Indian-Eskimo      311\n",
       "Other                   271\n",
       "dtype: int64"
      ]
     },
     "execution_count": 34,
     "metadata": {},
     "output_type": "execute_result"
    }
   ],
   "source": [
    "bl= len(df[df['race'] == 'Black'])\n",
    "wt = len(df[df['race'] == 'White'])\n",
    "ap = len(df[df['race'] == 'Asian-Pac-Islander'])\n",
    "am = len(df[df['race'] == 'Amer-Indian-Eskimo'])\n",
    "ot = len(df[df['race'] == 'Other'])\n",
    "pd.Series([bl, wt, ap, am, ot], index= ['Black','White', 'Asian-Pac-Islander', 'Amer-Indian-Eskimo', 'Other'])"
   ]
  },
  {
   "attachments": {},
   "cell_type": "markdown",
   "metadata": {},
   "source": [
    "###### Which can also be done with the **.count_values()** funtion"
   ]
  },
  {
   "attachments": {},
   "cell_type": "markdown",
   "metadata": {},
   "source": [
    "##### The mean age of men"
   ]
  },
  {
   "cell_type": "code",
   "execution_count": 39,
   "metadata": {},
   "outputs": [
    {
     "data": {
      "text/plain": [
       "39.43354749885268"
      ]
     },
     "execution_count": 39,
     "metadata": {},
     "output_type": "execute_result"
    }
   ],
   "source": [
    "sex_M = df[df['sex'] == 'Male']\n",
    "sex_M['age'].mean()"
   ]
  },
  {
   "attachments": {},
   "cell_type": "markdown",
   "metadata": {},
   "source": [
    "##### The percentage of people who have a Bachelor's degree"
   ]
  },
  {
   "cell_type": "code",
   "execution_count": 18,
   "metadata": {},
   "outputs": [
    {
     "data": {
      "text/plain": [
       "16.4"
      ]
     },
     "execution_count": 18,
     "metadata": {},
     "output_type": "execute_result"
    }
   ],
   "source": [
    "round(len(df[df['education'] == 'Bachelors']) / len(df['education']) * 100, 1)"
   ]
  },
  {
   "attachments": {},
   "cell_type": "markdown",
   "metadata": {},
   "source": [
    "##### The percentage of people with advanced education (`Bachelors`, `Masters`, or `Doctorate`) that make more than 50K\n",
    "##### The percentage of people without advanced education (`Bachelors`, `Masters`, or `Doctorate`) that make more than 50K"
   ]
  },
  {
   "cell_type": "code",
   "execution_count": 123,
   "metadata": {},
   "outputs": [],
   "source": [
    "NHE = df[df['education'].isin(['Masters','Doctorate', 'Bachelors'])]\n",
    "NLE = df[~df['education'].isin(['Masters','Doctorate', 'Bachelors'])]\n",
    "higher_education = len(NHE)/len(df['education']) * 100\n",
    "lower_education = len(NLE)/len(df['education']) * 100"
   ]
  },
  {
   "attachments": {},
   "cell_type": "markdown",
   "metadata": {},
   "source": [
    "##### Their Percentages"
   ]
  },
  {
   "cell_type": "code",
   "execution_count": 41,
   "metadata": {},
   "outputs": [
    {
     "data": {
      "text/plain": [
       "17.4"
      ]
     },
     "execution_count": 41,
     "metadata": {},
     "output_type": "execute_result"
    }
   ],
   "source": [
    "round(len(NHE[NHE.salary == '>50K'])/len(NHE)*100, 1)\n",
    "round(len(NLE[NLE.salary == '>50K'])/len(NLE)*100, 1)"
   ]
  },
  {
   "attachments": {},
   "cell_type": "markdown",
   "metadata": {},
   "source": [
    "##### Every individual lower than the age of 45"
   ]
  },
  {
   "cell_type": "code",
   "execution_count": null,
   "metadata": {},
   "outputs": [],
   "source": [
    "df[df['age'] < 45]"
   ]
  },
  {
   "attachments": {},
   "cell_type": "markdown",
   "metadata": {},
   "source": [
    "##### The minimum number of hours a person works per week (hours-per-week feature)"
   ]
  },
  {
   "cell_type": "code",
   "execution_count": null,
   "metadata": {},
   "outputs": [],
   "source": [
    "min_work_hours = min(df['hours-per-week'])\n",
    "min_workers = df[df['hours-per-week'] == min_work_hours]\n",
    "min_workers"
   ]
  },
  {
   "attachments": {},
   "cell_type": "markdown",
   "metadata": {},
   "source": [
    "##### These are thier percentages"
   ]
  },
  {
   "cell_type": "code",
   "execution_count": 53,
   "metadata": {},
   "outputs": [
    {
     "data": {
      "text/plain": [
       "10.0"
      ]
     },
     "execution_count": 53,
     "metadata": {},
     "output_type": "execute_result"
    }
   ],
   "source": [
    "min_workers = df[df['hours-per-week'] == min_work_hours]\n",
    "RMN = min_workers[min_workers.salary == '>50K']\n",
    "num_min_workers = len(min_workers)\n",
    "rich_percentage = round(len(RMN) / num_min_workers * 100, 1)\n",
    "rich_percentage"
   ]
  },
  {
   "attachments": {},
   "cell_type": "markdown",
   "metadata": {},
   "source": [
    "##### The country with the highest percentage of people that earn >50K and thier percentages"
   ]
  },
  {
   "cell_type": "code",
   "execution_count": null,
   "metadata": {},
   "outputs": [],
   "source": [
    "erc = df[df['salary'] == '>50K']['native-country'].value_counts()\n",
    "erc"
   ]
  },
  {
   "cell_type": "code",
   "execution_count": 111,
   "metadata": {},
   "outputs": [
    {
     "data": {
      "text/plain": [
       "41.9"
      ]
     },
     "execution_count": 111,
     "metadata": {},
     "output_type": "execute_result"
    }
   ],
   "source": [
    "ec = df['native-country'].value_counts()\n",
    "sec = erc / ec * 100\n",
    "round(sec.max(), 1)"
   ]
  },
  {
   "attachments": {},
   "cell_type": "markdown",
   "metadata": {},
   "source": [
    "##### The most popular occupation for those who earn >50K in India"
   ]
  },
  {
   "cell_type": "code",
   "execution_count": 122,
   "metadata": {},
   "outputs": [
    {
     "data": {
      "text/plain": [
       "'Prof-specialty'"
      ]
     },
     "execution_count": 122,
     "metadata": {},
     "output_type": "execute_result"
    }
   ],
   "source": [
    "RI = df[df['native-country'] == 'India']\n",
    "Ric = RI[RI.salary == '>50K']\n",
    "Ric['occupation'].value_counts().idxmax()"
   ]
  }
 ],
 "metadata": {
  "kernelspec": {
   "display_name": "Python 3",
   "language": "python",
   "name": "python3"
  },
  "language_info": {
   "codemirror_mode": {
    "name": "ipython",
    "version": 3
   },
   "file_extension": ".py",
   "mimetype": "text/x-python",
   "name": "python",
   "nbconvert_exporter": "python",
   "pygments_lexer": "ipython3",
   "version": "3.11.1"
  },
  "orig_nbformat": 4,
  "vscode": {
   "interpreter": {
    "hash": "bda418782055e3309093e7e4a7247ebd6eeec46806dff27684291b9372624fa9"
   }
  }
 },
 "nbformat": 4,
 "nbformat_minor": 2
}
